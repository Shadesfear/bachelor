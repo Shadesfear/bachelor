{
 "cells": [
  {
   "cell_type": "code",
   "execution_count": 132,
   "metadata": {},
   "outputs": [],
   "source": [
    "# importing bohrium kmeans from my source\n",
    "%run /home/chris/Documents/bachelor/src/bohrium_kmeans.py\n",
    "\n",
    "\n",
    "from mpl_toolkits.mplot3d import Axes3D\n",
    "from matplotlib import animation, pyplot as plt\n",
    "import matplotlib.cm as cm\n",
    "import argparse\n",
    "import os\n",
    "import numpy as np\n",
    "\n",
    "\n",
    "# Creating clustering object, with N clusters\n",
    "\n",
    "# Init data points to be clustered\n",
    "data = bh.loadtxt(\"/home/chris/Documents/bachelor/data/birchgrid.txt\")\n",
    "\n",
    "datafile = \"data/recon32.bin\"\n",
    "\n",
    "\n",
    "data = bh.fromfile(datafile, dtype=np.float32)\n",
    "size = bh.cbrt(data.size)\n",
    "#assert size**3 == data.siz\n",
    "size = size.astype(int)\n",
    "data = data.reshape([size.astype(int)] * 3)\n"
   ]
  },
  {
   "cell_type": "code",
   "execution_count": 122,
   "metadata": {},
   "outputs": [],
   "source": [
    "from mpl_toolkits.mplot3d import Axes3D\n",
    "from matplotlib import animation, pyplot as plt\n",
    "import matplotlib.cm as cm\n",
    "import argparse\n",
    "import os\n",
    "import numpy as np\n",
    "\n",
    "class AnimatedGif:\n",
    "    def __init__(self, size=(800, 600)):\n",
    "        self.fig = plt.figure()\n",
    "        self.fig.set_size_inches(size[0] / 100, size[1] / 100)\n",
    "        ax = self.fig.add_axes([0, 0, 1, 1], frameon=False, aspect=1)\n",
    "        ax.set_xticks([])\n",
    "        ax.set_yticks([])\n",
    "        self.images = []\n",
    "\n",
    "    def add(self, image, label=''):\n",
    "\n",
    "        plt_im = plt.imshow(image,cmap=cm.Greys_r, interpolation='nearest' , animated=True)\n",
    "        plt_txt = plt.text(10, 310, label, color='red')\n",
    "        self.images.append([plt_im, plt_txt])\n",
    "\n",
    "    def save(self, filename, fps):\n",
    "        ani = animation.ArtistAnimation(self.fig, self.images)\n",
    "        ani.save(filename, writer='imagemagick', fps=fps)\n"
   ]
  },
  {
   "cell_type": "code",
   "execution_count": 133,
   "metadata": {
    "scrolled": true
   },
   "outputs": [
    {
     "name": "stdout",
     "output_type": "stream",
     "text": [
      "plusplus\n",
      "broke new\n",
      "[0 0 0 ... 0 0 0]\n"
     ]
    }
   ],
   "source": [
    "data = bh.array(data)\n",
    "data1 = data[15].flatten()\n",
    "data1 = data1[:,None]\n",
    "\n",
    "kmeans = bohrium_kmeans(4, userkernel=True, init = 'kmeans++')\n",
    "\n",
    "closest, centroids, itera = kmeans.run(data1)\n",
    "print(closest)"
   ]
  },
  {
   "cell_type": "code",
   "execution_count": 134,
   "metadata": {},
   "outputs": [
    {
     "data": {
      "image/png": "[encoded data removed]",
      "text/plain": [
       "<Figure size 576x432 with 1 Axes>"
      ]
     },
     "metadata": {},
     "output_type": "display_data"
    },
    {
     "data": {
      "image/png": "[encoded data removed]",
      "text/plain": [
       "<Figure size 576x432 with 1 Axes>"
      ]
     },
     "metadata": {},
     "output_type": "display_data"
    }
   ],
   "source": [
    "video = AnimatedGif()\n",
    "video.add(data[15])\n",
    "video2 = AnimatedGif()\n",
    "video2.add(np.array(closest.reshape(32,32)))\n",
    "#video.add(closest.reshape(32,32))"
   ]
  },
  {
   "cell_type": "code",
   "execution_count": null,
   "metadata": {},
   "outputs": [],
   "source": []
  }
 ],
 "metadata": {
  "kernelspec": {
   "display_name": "Python 3",
   "language": "python",
   "name": "python3"
  },
  "language_info": {
   "codemirror_mode": {
    "name": "ipython",
    "version": 3
   },
   "file_extension": ".py",
   "mimetype": "text/x-python",
   "name": "python",
   "nbconvert_exporter": "python",
   "pygments_lexer": "ipython3",
   "version": "3.7.3"
  }
 },
 "nbformat": 4,
 "nbformat_minor": 2
}
